{
 "cells": [
  {
   "cell_type": "code",
   "execution_count": 1,
   "metadata": {},
   "outputs": [],
   "source": [
    "import numpy as np\n",
    "import pandas as pd\n",
    "\n",
    "from sklearn.naive_bayes import GaussianNB, BernoulliNB, MultinomialNB\n",
    "from sklearn.model_selection import RandomizedSearchCV, train_test_split, ShuffleSplit\n",
    "from sklearn.model_selection import StratifiedKFold, KFold, LeaveOneOut\n",
    "from sklearn.metrics import make_scorer, f1_score, roc_auc_score, auc, roc_curve, precision_score\n",
    "from sklearn.metrics import recall_score, classification_report, confusion_matrix, accuracy_score\n",
    "from sklearn.preprocessing import MinMaxScaler, StandardScaler, LabelEncoder, LabelBinarizer\n",
    "\n",
    "from sklearn import datasets"
   ]
  },
  {
   "cell_type": "code",
   "execution_count": 2,
   "metadata": {},
   "outputs": [
    {
     "data": {
      "text/html": [
       "<div>\n",
       "<style>\n",
       "    .dataframe thead tr:only-child th {\n",
       "        text-align: right;\n",
       "    }\n",
       "\n",
       "    .dataframe thead th {\n",
       "        text-align: left;\n",
       "    }\n",
       "\n",
       "    .dataframe tbody tr th {\n",
       "        vertical-align: top;\n",
       "    }\n",
       "</style>\n",
       "<table border=\"1\" class=\"dataframe\">\n",
       "  <thead>\n",
       "    <tr style=\"text-align: right;\">\n",
       "      <th></th>\n",
       "      <th>Outlook</th>\n",
       "      <th>Temperature</th>\n",
       "      <th>Humidity</th>\n",
       "      <th>Wind</th>\n",
       "      <th>Play Tennis</th>\n",
       "    </tr>\n",
       "  </thead>\n",
       "  <tbody>\n",
       "    <tr>\n",
       "      <th>0</th>\n",
       "      <td>Sunny</td>\n",
       "      <td>Hot</td>\n",
       "      <td>High</td>\n",
       "      <td>Weak</td>\n",
       "      <td>No</td>\n",
       "    </tr>\n",
       "    <tr>\n",
       "      <th>1</th>\n",
       "      <td>Sunny</td>\n",
       "      <td>Hot</td>\n",
       "      <td>High</td>\n",
       "      <td>Strong</td>\n",
       "      <td>No</td>\n",
       "    </tr>\n",
       "    <tr>\n",
       "      <th>2</th>\n",
       "      <td>Overcast</td>\n",
       "      <td>Hot</td>\n",
       "      <td>High</td>\n",
       "      <td>Weak</td>\n",
       "      <td>Yes</td>\n",
       "    </tr>\n",
       "    <tr>\n",
       "      <th>3</th>\n",
       "      <td>Rain</td>\n",
       "      <td>Mild</td>\n",
       "      <td>High</td>\n",
       "      <td>Weak</td>\n",
       "      <td>Yes</td>\n",
       "    </tr>\n",
       "    <tr>\n",
       "      <th>4</th>\n",
       "      <td>Rain</td>\n",
       "      <td>Cool</td>\n",
       "      <td>Normal</td>\n",
       "      <td>Weak</td>\n",
       "      <td>Yes</td>\n",
       "    </tr>\n",
       "  </tbody>\n",
       "</table>\n",
       "</div>"
      ],
      "text/plain": [
       "    Outlook Temperature Humidity    Wind Play Tennis\n",
       "0     Sunny         Hot     High    Weak          No\n",
       "1     Sunny         Hot     High  Strong          No\n",
       "2  Overcast         Hot     High    Weak         Yes\n",
       "3      Rain        Mild     High    Weak         Yes\n",
       "4      Rain        Cool   Normal    Weak         Yes"
      ]
     },
     "execution_count": 2,
     "metadata": {},
     "output_type": "execute_result"
    }
   ],
   "source": [
    "# Reading the data\n",
    "\n",
    "folderName = '../data/' \n",
    "fileName   = 'tennis.csv'\n",
    "\n",
    "df = pd.read_csv(folderName+fileName)\n",
    "\n",
    "df.head()"
   ]
  },
  {
   "cell_type": "code",
   "execution_count": 3,
   "metadata": {},
   "outputs": [],
   "source": [
    "number = LabelEncoder()\n",
    "\n",
    "df2 = df.copy()\n",
    "\n",
    "df2['Outlook'] = number.fit_transform(df['Outlook'])\n",
    "df2['Temperature'] = number.fit_transform(df['Temperature'])\n",
    "df2['Humidity'] = number.fit_transform(df['Humidity'])\n",
    "df2['Wind'] = number.fit_transform(df['Wind'])\n",
    "df2['Play Tennis'] = number.fit_transform(df['Play Tennis'])\n",
    "\n",
    "features = [\"Outlook\", \"Temperature\", \"Humidity\", \"Wind\"]\n",
    "target = \"Play Tennis\""
   ]
  },
  {
   "cell_type": "code",
   "execution_count": 4,
   "metadata": {},
   "outputs": [
    {
     "name": "stdout",
     "output_type": "stream",
     "text": [
      "Predicted Class: [1]\n",
      "Probability: [[ 0.34426593  0.65573407]]\n"
     ]
    }
   ],
   "source": [
    "# Multinomial Naive Bayes\n",
    "clf = MultinomialNB()\n",
    "\n",
    "clf.fit(df2[features],df2[target])\n",
    "\n",
    "# New = ['Sunny','Hot','Normal','Yes']\n",
    "new = np.array([2, 1, 1, 1])\n",
    "\n",
    "print('Predicted Class:', clf.predict(new.reshape(1,-1)))\n",
    "print('Probability:', clf.predict_proba(new.reshape(1,-1)))"
   ]
  },
  {
   "cell_type": "code",
   "execution_count": 5,
   "metadata": {},
   "outputs": [
    {
     "name": "stdout",
     "output_type": "stream",
     "text": [
      "Predicted Class: [1]\n",
      "Probability: [[ 0.22541203  0.77458797]]\n"
     ]
    }
   ],
   "source": [
    "# Gaussian Naive Bayes\n",
    "clf = GaussianNB()\n",
    "\n",
    "clf.fit(df2[features],df2[target])\n",
    "\n",
    "# New = ['Sunny','Hot','Normal','Yes']\n",
    "new = np.array([2, 1, 1, 1])\n",
    "\n",
    "print('Predicted Class:', clf.predict(new.reshape(1,-1)))\n",
    "print('Probability:', clf.predict_proba(new.reshape(1,-1)))"
   ]
  },
  {
   "cell_type": "code",
   "execution_count": 6,
   "metadata": {},
   "outputs": [],
   "source": [
    "binar = LabelBinarizer()\n",
    "\n",
    "outlook = pd.get_dummies(df['Outlook'])\n",
    "temp = pd.get_dummies(df['Temperature'])\n",
    "\n",
    "humid = pd.DataFrame(binar.fit_transform(df['Humidity']),columns=['Humidity'])\n",
    "wind = pd.DataFrame(binar.fit_transform(df['Wind']),columns=['Wind'])\n",
    "\n",
    "df3 = pd.concat([outlook,temp,humid,wind],axis=1)"
   ]
  },
  {
   "cell_type": "code",
   "execution_count": 7,
   "metadata": {},
   "outputs": [
    {
     "data": {
      "text/html": [
       "<div>\n",
       "<style>\n",
       "    .dataframe thead tr:only-child th {\n",
       "        text-align: right;\n",
       "    }\n",
       "\n",
       "    .dataframe thead th {\n",
       "        text-align: left;\n",
       "    }\n",
       "\n",
       "    .dataframe tbody tr th {\n",
       "        vertical-align: top;\n",
       "    }\n",
       "</style>\n",
       "<table border=\"1\" class=\"dataframe\">\n",
       "  <thead>\n",
       "    <tr style=\"text-align: right;\">\n",
       "      <th></th>\n",
       "      <th>Overcast</th>\n",
       "      <th>Rain</th>\n",
       "      <th>Sunny</th>\n",
       "      <th>Cool</th>\n",
       "      <th>Hot</th>\n",
       "      <th>Mild</th>\n",
       "      <th>Humidity</th>\n",
       "      <th>Wind</th>\n",
       "    </tr>\n",
       "  </thead>\n",
       "  <tbody>\n",
       "    <tr>\n",
       "      <th>0</th>\n",
       "      <td>0</td>\n",
       "      <td>0</td>\n",
       "      <td>1</td>\n",
       "      <td>0</td>\n",
       "      <td>1</td>\n",
       "      <td>0</td>\n",
       "      <td>0</td>\n",
       "      <td>1</td>\n",
       "    </tr>\n",
       "    <tr>\n",
       "      <th>1</th>\n",
       "      <td>0</td>\n",
       "      <td>0</td>\n",
       "      <td>1</td>\n",
       "      <td>0</td>\n",
       "      <td>1</td>\n",
       "      <td>0</td>\n",
       "      <td>0</td>\n",
       "      <td>0</td>\n",
       "    </tr>\n",
       "    <tr>\n",
       "      <th>2</th>\n",
       "      <td>1</td>\n",
       "      <td>0</td>\n",
       "      <td>0</td>\n",
       "      <td>0</td>\n",
       "      <td>1</td>\n",
       "      <td>0</td>\n",
       "      <td>0</td>\n",
       "      <td>1</td>\n",
       "    </tr>\n",
       "    <tr>\n",
       "      <th>3</th>\n",
       "      <td>0</td>\n",
       "      <td>1</td>\n",
       "      <td>0</td>\n",
       "      <td>0</td>\n",
       "      <td>0</td>\n",
       "      <td>1</td>\n",
       "      <td>0</td>\n",
       "      <td>1</td>\n",
       "    </tr>\n",
       "    <tr>\n",
       "      <th>4</th>\n",
       "      <td>0</td>\n",
       "      <td>1</td>\n",
       "      <td>0</td>\n",
       "      <td>1</td>\n",
       "      <td>0</td>\n",
       "      <td>0</td>\n",
       "      <td>1</td>\n",
       "      <td>1</td>\n",
       "    </tr>\n",
       "  </tbody>\n",
       "</table>\n",
       "</div>"
      ],
      "text/plain": [
       "   Overcast  Rain  Sunny  Cool  Hot  Mild  Humidity  Wind\n",
       "0         0     0      1     0    1     0         0     1\n",
       "1         0     0      1     0    1     0         0     0\n",
       "2         1     0      0     0    1     0         0     1\n",
       "3         0     1      0     0    0     1         0     1\n",
       "4         0     1      0     1    0     0         1     1"
      ]
     },
     "execution_count": 7,
     "metadata": {},
     "output_type": "execute_result"
    }
   ],
   "source": [
    "df3.head()"
   ]
  },
  {
   "cell_type": "code",
   "execution_count": 8,
   "metadata": {},
   "outputs": [
    {
     "name": "stdout",
     "output_type": "stream",
     "text": [
      "Predicted Class: [1]\n",
      "Probability: [[ 0.47855378  0.52144622]]\n"
     ]
    }
   ],
   "source": [
    "# Bernoulli Naive Bayes\n",
    "clf = BernoulliNB()\n",
    "\n",
    "clf.fit(df3,df2[target])\n",
    "\n",
    "# New = ['Sunny','Hot','Normal','Yes']\n",
    "new = np.array([0,0,1,0,1,0,1,1])\n",
    "\n",
    "print('Predicted Class:', clf.predict(new.reshape(1,-1)))\n",
    "print('Probability:', clf.predict_proba(new.reshape(1,-1)))"
   ]
  },
  {
   "cell_type": "code",
   "execution_count": 9,
   "metadata": {},
   "outputs": [],
   "source": [
    "# ----------- CROSS VALIDATION ----------- #\n",
    "sc_mean_test=[]\n",
    "sc_mean_train=[]\n",
    "\n",
    "x = df3\n",
    "y = df2[target]\n",
    "\n",
    "cv = KFold(n_splits=10) # K-fold Cross Validation method\n",
    "for train_index, test_index in cv.split(df.values):\n",
    "    X_train, X_test = x.values[train_index,:], x.values[test_index,:]\n",
    "    y_train, y_test = y[train_index],y[test_index]     \n",
    "        \n",
    "    clf.fit(X_train, y_train)\n",
    "    predicted_train = clf.predict(X_train)\n",
    "    sc_mean_train.append(accuracy_score(y_train, predicted_train))\n",
    "    \n",
    "    predicted_test = clf.predict(X_test)\n",
    "    sc_mean_test.append(accuracy_score(y_test, predicted_test))"
   ]
  },
  {
   "cell_type": "code",
   "execution_count": 10,
   "metadata": {},
   "outputs": [
    {
     "data": {
      "text/plain": [
       "(0.88141025641025639, 0.55000000000000004)"
      ]
     },
     "execution_count": 10,
     "metadata": {},
     "output_type": "execute_result"
    }
   ],
   "source": [
    "# Transforming list to array\n",
    "sc_mean_test = np.array(sc_mean_test)\n",
    "sc_mean_train = np.array(sc_mean_train)\n",
    "\n",
    "# Calculating the mean values for train and test score\n",
    "sc_mean_train.mean(), sc_mean_test.mean()"
   ]
  },
  {
   "cell_type": "code",
   "execution_count": 11,
   "metadata": {
    "collapsed": true
   },
   "outputs": [],
   "source": [
    "# ----------- Leave-one-out ----------- #\n",
    "sc_mean_test=[]\n",
    "sc_mean_train=[]\n",
    "\n",
    "x = df3\n",
    "y = df2[target]\n",
    "\n",
    "cv = LeaveOneOut() # K-fold Cross Validation method\n",
    "for train_index, test_index in cv.split(df.values):\n",
    "    X_train, X_test = x.values[train_index,:], x.values[test_index,:]\n",
    "    y_train, y_test = y[train_index],y[test_index]     \n",
    "        \n",
    "    clf.fit(X_train, y_train)\n",
    "    predicted_train = clf.predict(X_train)\n",
    "    sc_mean_train.append(accuracy_score(y_train, predicted_train))\n",
    "    \n",
    "    predicted_test = clf.predict(X_test)\n",
    "    sc_mean_test.append(accuracy_score(y_test, predicted_test))"
   ]
  },
  {
   "cell_type": "code",
   "execution_count": 12,
   "metadata": {},
   "outputs": [
    {
     "data": {
      "text/plain": [
       "(0.88461538461538469, 0.6428571428571429)"
      ]
     },
     "execution_count": 12,
     "metadata": {},
     "output_type": "execute_result"
    }
   ],
   "source": [
    "# Transforming list to array\n",
    "sc_mean_test = np.array(sc_mean_test)\n",
    "sc_mean_train = np.array(sc_mean_train)\n",
    "\n",
    "# Calculating the mean values for train and test score\n",
    "sc_mean_train.mean(), sc_mean_test.mean()"
   ]
  },
  {
   "cell_type": "code",
   "execution_count": 13,
   "metadata": {
    "collapsed": true
   },
   "outputs": [],
   "source": [
    "# ----------- Hold out ----------- #\n",
    "sc_mean_test=[]\n",
    "sc_mean_train=[]\n",
    "\n",
    "x = df3\n",
    "y = df2[target]\n",
    "\n",
    "X_train, X_test, y_train, y_test = train_test_split(x, y, test_size=0.30, random_state=42, stratify=y)\n",
    "\n",
    "clf.fit(X_train, y_train)\n",
    "predicted_train = clf.predict(X_train)\n",
    "sc_mean_train = accuracy_score(y_train, predicted_train)\n",
    "\n",
    "predicted_test = clf.predict(X_test)\n",
    "sc_mean_test= accuracy_score(y_test, predicted_test)\n"
   ]
  },
  {
   "cell_type": "code",
   "execution_count": 14,
   "metadata": {},
   "outputs": [
    {
     "name": "stdout",
     "output_type": "stream",
     "text": [
      "0.888888888889 0.6\n"
     ]
    }
   ],
   "source": [
    "print(sc_mean_train, sc_mean_test)"
   ]
  }
 ],
 "metadata": {
  "kernelspec": {
   "display_name": "Python 3",
   "language": "python",
   "name": "python3"
  },
  "language_info": {
   "codemirror_mode": {
    "name": "ipython",
    "version": 3
   },
   "file_extension": ".py",
   "mimetype": "text/x-python",
   "name": "python",
   "nbconvert_exporter": "python",
   "pygments_lexer": "ipython3",
   "version": "3.7.0"
  }
 },
 "nbformat": 4,
 "nbformat_minor": 2
}
