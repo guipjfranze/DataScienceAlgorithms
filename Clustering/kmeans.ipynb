{
 "cells": [
  {
   "cell_type": "markdown",
   "metadata": {},
   "source": [
    "# Clustering - KMEANS\n",
    "* Simple code for kmeans Clustering \n",
    "* Supporting graphs for cluster size selection\n",
    "* dataset: xclara from https://github.com/mubaris/friendly-fortnight"
   ]
  },
  {
   "cell_type": "code",
   "execution_count": 1,
   "metadata": {},
   "outputs": [],
   "source": [
    "import os, time\n",
    "\n",
    "import numpy as np\n",
    "np.random.seed(42)\n",
    "\n",
    "import pandas as pd\n",
    "\n",
    "import matplotlib.pyplot as plt\n",
    "%matplotlib inline"
   ]
  },
  {
   "cell_type": "code",
   "execution_count": 5,
   "metadata": {},
   "outputs": [
    {
     "name": "stdout",
     "output_type": "stream",
     "text": [
      "[INFO]\n",
      "Nrow: 3000\n",
      "Ncol: 2\n"
     ]
    },
    {
     "data": {
      "text/html": [
       "<div>\n",
       "<style scoped>\n",
       "    .dataframe tbody tr th:only-of-type {\n",
       "        vertical-align: middle;\n",
       "    }\n",
       "\n",
       "    .dataframe tbody tr th {\n",
       "        vertical-align: top;\n",
       "    }\n",
       "\n",
       "    .dataframe thead th {\n",
       "        text-align: right;\n",
       "    }\n",
       "</style>\n",
       "<table border=\"1\" class=\"dataframe\">\n",
       "  <thead>\n",
       "    <tr style=\"text-align: right;\">\n",
       "      <th></th>\n",
       "      <th>V1</th>\n",
       "      <th>V2</th>\n",
       "    </tr>\n",
       "  </thead>\n",
       "  <tbody>\n",
       "    <tr>\n",
       "      <th>0</th>\n",
       "      <td>2.072345</td>\n",
       "      <td>-3.241693</td>\n",
       "    </tr>\n",
       "    <tr>\n",
       "      <th>1</th>\n",
       "      <td>17.936710</td>\n",
       "      <td>15.784810</td>\n",
       "    </tr>\n",
       "    <tr>\n",
       "      <th>2</th>\n",
       "      <td>1.083576</td>\n",
       "      <td>7.319176</td>\n",
       "    </tr>\n",
       "  </tbody>\n",
       "</table>\n",
       "</div>"
      ],
      "text/plain": [
       "          V1         V2\n",
       "0   2.072345  -3.241693\n",
       "1  17.936710  15.784810\n",
       "2   1.083576   7.319176"
      ]
     },
     "execution_count": 5,
     "metadata": {},
     "output_type": "execute_result"
    }
   ],
   "source": [
    "# Declaring header\n",
    "# header = ['V1','V2']\n",
    "\n",
    "# Affinity and Linkage\n",
    "af_type = 'euclidean'\n",
    "lk_type = 'complete'\n",
    "\n",
    "# Reading the data\n",
    "folderName = '../data/' \n",
    "fileName   = 'xclara.data'\n",
    "\n",
    "df = pd.read_csv(folderName+fileName,sep=',')#,names=header)\n",
    "\n",
    "# Printing some info about the data\n",
    "print(\"[INFO]\\nNrow: {}\\nNcol: {}\".format(df.shape[0],df.shape[1]))\n",
    "df.head(3)"
   ]
  },
  {
   "cell_type": "code",
   "execution_count": 6,
   "metadata": {},
   "outputs": [
    {
     "data": {
      "text/html": [
       "<div>\n",
       "<style scoped>\n",
       "    .dataframe tbody tr th:only-of-type {\n",
       "        vertical-align: middle;\n",
       "    }\n",
       "\n",
       "    .dataframe tbody tr th {\n",
       "        vertical-align: top;\n",
       "    }\n",
       "\n",
       "    .dataframe thead th {\n",
       "        text-align: right;\n",
       "    }\n",
       "</style>\n",
       "<table border=\"1\" class=\"dataframe\">\n",
       "  <thead>\n",
       "    <tr style=\"text-align: right;\">\n",
       "      <th></th>\n",
       "      <th>V1</th>\n",
       "      <th>V2</th>\n",
       "    </tr>\n",
       "  </thead>\n",
       "  <tbody>\n",
       "    <tr>\n",
       "      <th>count</th>\n",
       "      <td>3000.000000</td>\n",
       "      <td>3000.000000</td>\n",
       "    </tr>\n",
       "    <tr>\n",
       "      <th>mean</th>\n",
       "      <td>40.611358</td>\n",
       "      <td>22.862141</td>\n",
       "    </tr>\n",
       "    <tr>\n",
       "      <th>std</th>\n",
       "      <td>25.859054</td>\n",
       "      <td>31.759714</td>\n",
       "    </tr>\n",
       "    <tr>\n",
       "      <th>min</th>\n",
       "      <td>-22.495990</td>\n",
       "      <td>-38.795500</td>\n",
       "    </tr>\n",
       "    <tr>\n",
       "      <th>25%</th>\n",
       "      <td>18.462790</td>\n",
       "      <td>-4.003494</td>\n",
       "    </tr>\n",
       "    <tr>\n",
       "      <th>50%</th>\n",
       "      <td>41.552210</td>\n",
       "      <td>13.827390</td>\n",
       "    </tr>\n",
       "    <tr>\n",
       "      <th>75%</th>\n",
       "      <td>62.249480</td>\n",
       "      <td>55.729100</td>\n",
       "    </tr>\n",
       "    <tr>\n",
       "      <th>max</th>\n",
       "      <td>104.376600</td>\n",
       "      <td>87.313700</td>\n",
       "    </tr>\n",
       "  </tbody>\n",
       "</table>\n",
       "</div>"
      ],
      "text/plain": [
       "                V1           V2\n",
       "count  3000.000000  3000.000000\n",
       "mean     40.611358    22.862141\n",
       "std      25.859054    31.759714\n",
       "min     -22.495990   -38.795500\n",
       "25%      18.462790    -4.003494\n",
       "50%      41.552210    13.827390\n",
       "75%      62.249480    55.729100\n",
       "max     104.376600    87.313700"
      ]
     },
     "execution_count": 6,
     "metadata": {},
     "output_type": "execute_result"
    }
   ],
   "source": [
    "df.describe()"
   ]
  },
  {
   "cell_type": "code",
   "execution_count": 11,
   "metadata": {},
   "outputs": [],
   "source": [
    "# # If necessary, dropping cols\n",
    "# cols = df.columns # List of columns in dataframe\n",
    "# drop = [cols[-1]] # List of columns to drop\n",
    "# df.drop(labels=drop,axis=1,inplace=True)\n",
    "# df.head(3)\n",
    "\n",
    "# Assigning data to variable\n",
    "X = df.values"
   ]
  },
  {
   "cell_type": "code",
   "execution_count": 12,
   "metadata": {},
   "outputs": [],
   "source": [
    "from sklearn.cluster import KMeans\n",
    "from sklearn.metrics import silhouette_score, silhouette_samples"
   ]
  },
  {
   "cell_type": "code",
   "execution_count": 13,
   "metadata": {},
   "outputs": [],
   "source": [
    "# Creating 20 random initial centroids\n",
    "kmeans = KMeans(n_clusters=20, init='random', n_init=1, max_iter=1, tol=0.0001, \n",
    "                precompute_distances='auto', verbose=0, random_state=None, \n",
    "                n_jobs=None, algorithm='auto')\n",
    "\n",
    "# Fitting the model\n",
    "kmeans.fit(X)\n",
    "\n",
    "# Retreiving cluster centers\n",
    "init_centroids = kmeans.cluster_centers_"
   ]
  },
  {
   "cell_type": "code",
   "execution_count": 21,
   "metadata": {},
   "outputs": [],
   "source": [
    "# From 2 to 21 clusters \n",
    "k_values = range(2,21)\n",
    "\n",
    "# Looping over each cluster\n",
    "final_results=pd.DataFrame()\n",
    "for k in k_values:\n",
    "    # Assigning number of clusters\n",
    "    kmeans = KMeans(n_clusters=k, init=init_centroids[0:k,:], n_init=1, max_iter=10, tol=0.0001, \n",
    "                precompute_distances='auto', verbose=0, random_state=42, copy_x=True, \n",
    "                n_jobs=None, algorithm='auto')\n",
    "    # Fitting and predicting labels\n",
    "    cluster_labels = kmeans.fit_predict(X)\n",
    "    # Calculating mean intra-cluster distance\n",
    "    score_wss = round(kmeans.inertia_ ,2)\n",
    "    # Calculating silhouette score (b-a)/max(a,b)\n",
    "    silhouette = round(silhouette_score(X, cluster_labels),4)\n",
    "    # Creating dictionary to store values\n",
    "    aux_results = {'score_wss': score_wss, 'silhouette': silhouette}\n",
    "    # Assigning dictionary to dataframe\n",
    "    aux_results = pd.DataFrame(aux_results, index = [k])\n",
    "    # Concatenating aux values with final results\n",
    "    final_results = pd.concat([final_results, aux_results], axis =0)"
   ]
  },
  {
   "cell_type": "code",
   "execution_count": 35,
   "metadata": {},
   "outputs": [
    {
     "data": {
      "image/png": "[encoded data removed]",
      "text/plain": [
       "<Figure size 864x576 with 2 Axes>"
      ]
     },
     "metadata": {
      "needs_background": "light"
     },
     "output_type": "display_data"
    }
   ],
   "source": [
    "# Plotting results\n",
    "fig, ax = plt.subplots(2,1,figsize=(12,8))\n",
    "fig.subplots_adjust(left=None, bottom=None, right=None, top=None, wspace=None, hspace=0.35)\n",
    "\n",
    "ax[0].plot(final_results.index,final_results.score_wss)\n",
    "ax[0].set_xlabel('Number of Clusters')\n",
    "ax[0].set_ylabel('Within Cluster Sum of Squares')\n",
    "ax[0].set_title('Elbow')\n",
    "ax[0].set_xticks(k_values)\n",
    "ax[0].set_xticklabels(k_values)\n",
    "ax[0].grid()\n",
    "\n",
    "\n",
    "ax[1].plot(final_results.index,final_results.silhouette)\n",
    "ax[1].set_xlabel('Number of Clusters')\n",
    "ax[1].set_ylabel('Silhouette Score')\n",
    "ax[1].set_title('Silhouette')\n",
    "ax[1].set_xticks(k_values)\n",
    "ax[1].set_xticklabels(k_values)\n",
    "ax[1].grid()\n",
    "\n",
    "fig.tight_layout()\n",
    "plt.show()"
   ]
  },
  {
   "cell_type": "code",
   "execution_count": 18,
   "metadata": {},
   "outputs": [
    {
     "name": "stdout",
     "output_type": "stream",
     "text": [
      "    score_wss  silhouette\n",
      "2   3586632.1      0.3750\n",
      "3    611605.9      0.6946\n",
      "4    536843.5      0.5418\n",
      "5    491292.1      0.5259\n",
      "6    463414.3      0.5166\n",
      "7    407151.8      0.4295\n",
      "8    341772.5      0.3113\n",
      "9    327940.5      0.3043\n",
      "10   284028.0      0.3078\n",
      "11   261582.3      0.3071\n",
      "12   220218.9      0.3195\n",
      "13   206982.6      0.3069\n",
      "14   194276.9      0.3153\n",
      "15   184226.0      0.3099\n",
      "16   177683.8      0.3069\n",
      "17   172615.4      0.3055\n",
      "18   162350.7      0.3042\n",
      "19   150816.6      0.3112\n",
      "20   146774.7      0.3029\n"
     ]
    }
   ],
   "source": [
    "print(final_results)"
   ]
  },
  {
   "cell_type": "code",
   "execution_count": null,
   "metadata": {},
   "outputs": [],
   "source": []
  },
  {
   "cell_type": "code",
   "execution_count": null,
   "metadata": {},
   "outputs": [],
   "source": []
  }
 ],
 "metadata": {
  "kernelspec": {
   "display_name": "Python 3",
   "language": "python",
   "name": "python3"
  },
  "language_info": {
   "codemirror_mode": {
    "name": "ipython",
    "version": 3
   },
   "file_extension": ".py",
   "mimetype": "text/x-python",
   "name": "python",
   "nbconvert_exporter": "python",
   "pygments_lexer": "ipython3",
   "version": "3.7.0"
  }
 },
 "nbformat": 4,
 "nbformat_minor": 2
}
