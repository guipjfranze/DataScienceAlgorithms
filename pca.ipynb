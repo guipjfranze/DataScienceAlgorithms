{
 "cells": [
  {
   "cell_type": "markdown",
   "metadata": {},
   "source": [
    "# Data Prep - PCA\n",
    "* Simple notebook for Principal Componet Analysis\n",
    "* Supporting table for selection dimension size\n",
    "* dataset: iris"
   ]
  },
  {
   "cell_type": "code",
   "execution_count": 1,
   "metadata": {
    "collapsed": true
   },
   "outputs": [],
   "source": [
    "import pandas as pd\n",
    "import numpy as np\n",
    "\n",
    "from sklearn.decomposition import PCA\n",
    "import matplotlib.pyplot as plt\n",
    "import matplotlib.cm as cm\n",
    "\n",
    "from sklearn import datasets"
   ]
  },
  {
   "cell_type": "code",
   "execution_count": 2,
   "metadata": {},
   "outputs": [],
   "source": [
    "iris = datasets.load_iris()\n",
    "\n",
    "x = iris.data\n",
    "y = iris.target"
   ]
  },
  {
   "cell_type": "code",
   "execution_count": 3,
   "metadata": {},
   "outputs": [
    {
     "data": {
      "text/plain": [
       "PCA(copy=True, iterated_power='auto', n_components=None, random_state=42,\n",
       "  svd_solver='auto', tol=0.0, whiten=False)"
      ]
     },
     "execution_count": 3,
     "metadata": {},
     "output_type": "execute_result"
    }
   ],
   "source": [
    "pca = PCA(n_components=None, copy=True, whiten=False, svd_solver='auto', tol=0.0, \n",
    "          iterated_power='auto', random_state=42)\n",
    "\n",
    "pca.fit(x)"
   ]
  },
  {
   "cell_type": "code",
   "execution_count": 39,
   "metadata": {},
   "outputs": [
    {
     "data": {
      "image/png": "[encoded data removed]",
      "text/plain": [
       "<matplotlib.figure.Figure at 0x1c495af1ef0>"
      ]
     },
     "metadata": {},
     "output_type": "display_data"
    },
    {
     "name": "stdout",
     "output_type": "stream",
     "text": [
      "   Component  Explained Variance  Explained Variance Cumulative\n",
      "0          1            0.924616                       0.924616\n",
      "1          2            0.053016                       0.977632\n",
      "2          3            0.017185                       0.994817\n",
      "3          4            0.005183                       1.000000\n"
     ]
    }
   ],
   "source": [
    "# Plot the BIC scores\n",
    "\n",
    "range_x = np.arange(4)\n",
    "\n",
    "plt.bar(range_x,pca.explained_variance_ratio_)\n",
    "plt.xticks(range_x, ('1st', '2nd', '3rd', '4th'))\n",
    "plt.xlabel('Principal Component')\n",
    "plt.ylabel('Explained Variance Ratio')\n",
    "plt.title('Explained Variance')\n",
    "plt.show()\n",
    "\n",
    "plt.bar(range_x,pca.explained_variance_ratio_)\n",
    "plt.xticks(range_x, ('1st', '2nd', '3rd', '4th'))\n",
    "plt.xlabel('Principal Component')\n",
    "plt.ylabel('Cumulative Explained Variance Ratio')\n",
    "plt.title('Cumulative Explained Variance')\n",
    "plt.show()\n",
    "\n",
    "d = {'Component': np.r_[1:len(pca.explained_variance_ratio_)+1], \n",
    "     'Explained Variance': pca.explained_variance_ratio_, \n",
    "     'Explained Variance Cumulative': np.cumsum(pca.explained_variance_ratio_)}\n",
    "df = pd.DataFrame(data=d)\n",
    "\n",
    "print(df)"
   ]
  }
 ],
 "metadata": {
  "kernelspec": {
   "display_name": "Python 3",
   "language": "python",
   "name": "python3"
  },
  "language_info": {
   "codemirror_mode": {
    "name": "ipython",
    "version": 3
   },
   "file_extension": ".py",
   "mimetype": "text/x-python",
   "name": "python",
   "nbconvert_exporter": "python",
   "pygments_lexer": "ipython3",
   "version": "3.6.3"
  }
 },
 "nbformat": 4,
 "nbformat_minor": 2
}
