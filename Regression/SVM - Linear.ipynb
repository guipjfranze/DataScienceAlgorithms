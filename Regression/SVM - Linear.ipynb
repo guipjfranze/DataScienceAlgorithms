{
 "cells": [
  {
   "cell_type": "code",
   "execution_count": 1,
   "metadata": {},
   "outputs": [],
   "source": [
    "import os, time, pickle\n",
    "\n",
    "import numpy as np\n",
    "np.random.seed(42)\n",
    "\n",
    "import pandas as pd\n",
    "\n",
    "import matplotlib.pyplot as plt\n",
    "%matplotlib inline"
   ]
  },
  {
   "cell_type": "code",
   "execution_count": 69,
   "metadata": {},
   "outputs": [
    {
     "name": "stdout",
     "output_type": "stream",
     "text": [
      "[INFO]\n",
      "Nrow: 308\n",
      "Ncol: 7\n"
     ]
    },
    {
     "data": {
      "text/html": [
       "<div>\n",
       "<style scoped>\n",
       "    .dataframe tbody tr th:only-of-type {\n",
       "        vertical-align: middle;\n",
       "    }\n",
       "\n",
       "    .dataframe tbody tr th {\n",
       "        vertical-align: top;\n",
       "    }\n",
       "\n",
       "    .dataframe thead th {\n",
       "        text-align: right;\n",
       "    }\n",
       "</style>\n",
       "<table border=\"1\" class=\"dataframe\">\n",
       "  <thead>\n",
       "    <tr style=\"text-align: right;\">\n",
       "      <th></th>\n",
       "      <th>V_0</th>\n",
       "      <th>V_1</th>\n",
       "      <th>V_2</th>\n",
       "      <th>V_3</th>\n",
       "      <th>V_4</th>\n",
       "      <th>V_5</th>\n",
       "      <th>V_6</th>\n",
       "    </tr>\n",
       "  </thead>\n",
       "  <tbody>\n",
       "    <tr>\n",
       "      <th>0</th>\n",
       "      <td>-2.3</td>\n",
       "      <td>0.568</td>\n",
       "      <td>4.78</td>\n",
       "      <td>3.99</td>\n",
       "      <td>3.17</td>\n",
       "      <td>0.125</td>\n",
       "      <td>0.11</td>\n",
       "    </tr>\n",
       "    <tr>\n",
       "      <th>1</th>\n",
       "      <td>-2.3</td>\n",
       "      <td>0.568</td>\n",
       "      <td>4.78</td>\n",
       "      <td>3.99</td>\n",
       "      <td>3.17</td>\n",
       "      <td>0.150</td>\n",
       "      <td>0.27</td>\n",
       "    </tr>\n",
       "    <tr>\n",
       "      <th>2</th>\n",
       "      <td>-2.3</td>\n",
       "      <td>0.568</td>\n",
       "      <td>4.78</td>\n",
       "      <td>3.99</td>\n",
       "      <td>3.17</td>\n",
       "      <td>0.175</td>\n",
       "      <td>0.47</td>\n",
       "    </tr>\n",
       "  </tbody>\n",
       "</table>\n",
       "</div>"
      ],
      "text/plain": [
       "   V_0    V_1   V_2   V_3   V_4    V_5   V_6\n",
       "0 -2.3  0.568  4.78  3.99  3.17  0.125  0.11\n",
       "1 -2.3  0.568  4.78  3.99  3.17  0.150  0.27\n",
       "2 -2.3  0.568  4.78  3.99  3.17  0.175  0.47"
      ]
     },
     "execution_count": 69,
     "metadata": {},
     "output_type": "execute_result"
    }
   ],
   "source": [
    "# Reading the data\n",
    "folderName = '../data/' \n",
    "fileName   = 'yacht_hydrodynamics.data'\n",
    "\n",
    "#Attribute Information:\n",
    "\n",
    "# Variations concern hull geometry coefficients and the Froude number: \n",
    "\n",
    "# 1. Longitudinal position of the center of buoyancy, adimensional. \n",
    "# 2. Prismatic coefficient, adimensional. \n",
    "# 3. Length-displacement ratio, adimensional. \n",
    "# 4. Beam-draught ratio, adimensional. \n",
    "# 5. Length-beam ratio, adimensional. \n",
    "# 6. Froude number, adimensional. \n",
    "\n",
    "# The measured variable is the residuary resistance per unit weight of displacement: \n",
    "\n",
    "# 7. Residuary resistance per unit weight of displacement, adimensional. \n",
    "\n",
    "header = ['V_{}'.format(i) for i in range(7)]\n",
    "df = pd.read_csv(folderName+fileName,sep='\\s+',names=header,index_col=None)#.reset_index()\n",
    "\n",
    "# Printing some info about the data\n",
    "print(\"[INFO]\\nNrow: {}\\nNcol: {}\".format(df.shape[0],df.shape[1]))\n",
    "df.head(3)"
   ]
  },
  {
   "cell_type": "code",
   "execution_count": 70,
   "metadata": {},
   "outputs": [
    {
     "data": {
      "text/html": [
       "<div>\n",
       "<style scoped>\n",
       "    .dataframe tbody tr th:only-of-type {\n",
       "        vertical-align: middle;\n",
       "    }\n",
       "\n",
       "    .dataframe tbody tr th {\n",
       "        vertical-align: top;\n",
       "    }\n",
       "\n",
       "    .dataframe thead th {\n",
       "        text-align: right;\n",
       "    }\n",
       "</style>\n",
       "<table border=\"1\" class=\"dataframe\">\n",
       "  <thead>\n",
       "    <tr style=\"text-align: right;\">\n",
       "      <th></th>\n",
       "      <th>V_0</th>\n",
       "      <th>V_1</th>\n",
       "      <th>V_2</th>\n",
       "      <th>V_3</th>\n",
       "      <th>V_4</th>\n",
       "      <th>V_5</th>\n",
       "    </tr>\n",
       "  </thead>\n",
       "  <tbody>\n",
       "    <tr>\n",
       "      <th>0</th>\n",
       "      <td>-2.3</td>\n",
       "      <td>0.568</td>\n",
       "      <td>4.78</td>\n",
       "      <td>3.99</td>\n",
       "      <td>3.17</td>\n",
       "      <td>0.125</td>\n",
       "    </tr>\n",
       "    <tr>\n",
       "      <th>1</th>\n",
       "      <td>-2.3</td>\n",
       "      <td>0.568</td>\n",
       "      <td>4.78</td>\n",
       "      <td>3.99</td>\n",
       "      <td>3.17</td>\n",
       "      <td>0.150</td>\n",
       "    </tr>\n",
       "    <tr>\n",
       "      <th>2</th>\n",
       "      <td>-2.3</td>\n",
       "      <td>0.568</td>\n",
       "      <td>4.78</td>\n",
       "      <td>3.99</td>\n",
       "      <td>3.17</td>\n",
       "      <td>0.175</td>\n",
       "    </tr>\n",
       "  </tbody>\n",
       "</table>\n",
       "</div>"
      ],
      "text/plain": [
       "   V_0    V_1   V_2   V_3   V_4    V_5\n",
       "0 -2.3  0.568  4.78  3.99  3.17  0.125\n",
       "1 -2.3  0.568  4.78  3.99  3.17  0.150\n",
       "2 -2.3  0.568  4.78  3.99  3.17  0.175"
      ]
     },
     "execution_count": 70,
     "metadata": {},
     "output_type": "execute_result"
    }
   ],
   "source": [
    "# Setting the target column\n",
    "target = df.loc[:,df.columns[-1]].values\n",
    "\n",
    "# If necessary, dropping cols\n",
    "cols = df.columns\n",
    "df.drop(labels=cols[-1],axis=1,inplace=True)\n",
    "df.head(3)"
   ]
  },
  {
   "cell_type": "code",
   "execution_count": 71,
   "metadata": {},
   "outputs": [],
   "source": [
    "from sklearn.svm import SVR\n",
    "from sklearn import model_selection\n",
    "from sklearn import metrics"
   ]
  },
  {
   "cell_type": "code",
   "execution_count": 87,
   "metadata": {},
   "outputs": [],
   "source": [
    "clf = SVR(kernel='linear', C=0.1)"
   ]
  },
  {
   "cell_type": "markdown",
   "metadata": {},
   "source": [
    "## Leave-One-Out Cross Validation"
   ]
  },
  {
   "cell_type": "code",
   "execution_count": 90,
   "metadata": {},
   "outputs": [],
   "source": [
    "mae_train=[]\n",
    "mse_train=[]\n",
    "rmse_train=[]\n",
    "r2_train=[]\n",
    "\n",
    "mae_test=[]\n",
    "mse_test=[]\n",
    "rmse_test=[]\n",
    "mse_sum = 0\n",
    "r2_test=[]\n",
    "# ----------- CROSS VALIDATION ----------- #\n",
    "# -------------- LeaveOneOut ----------- #\n",
    "cv = model_selection.LeaveOneOut()\n",
    "for train_index, test_index in cv.split(df.values):\n",
    "    X_train, X_test = df.values[train_index,:], df.values[test_index,:]\n",
    "    y_train, y_test = target[train_index],target[test_index]\n",
    "    \n",
    "    # Fitting the data into the model\n",
    "    clf.fit(X_train, y_train)\n",
    "    \n",
    "    # FOR TRAINING\n",
    "    predicted_train = clf.predict(X_train)\n",
    "    mae_train.append(metrics.mean_absolute_error(y_train, predicted_train))\n",
    "    mse_train.append(metrics.mean_squared_error(y_train, predicted_train))\n",
    "    rmse_train.append(np.sqrt(metrics.mean_squared_error(y_train, predicted_train)))\n",
    "    r2_train.append(metrics.r2_score(y_train, predicted_train))\n",
    "    \n",
    "    # FOR TESTING\n",
    "    predicted_test = clf.predict(X_test)\n",
    "    mae_test.append(metrics.mean_absolute_error(y_test, predicted_test))\n",
    "    mse_test.append(metrics.mean_squared_error(y_test, predicted_test))\n",
    "    mse = metrics.mean_squared_error(y_test, predicted_test)\n",
    "    mse_sum = mse_sum + mse\n",
    "    r2_test.append(metrics.r2_score(y_test, predicted_test))\n",
    "\n",
    "\n",
    "rmse_test = np.sqrt(mse_sum/len(rmse_train))"
   ]
  },
  {
   "cell_type": "markdown",
   "metadata": {},
   "source": [
    "\n",
    "$$MAE = \\sum_{i=0}^{n} (y_i - \\hat{y_i})$$\n",
    "\n",
    "$$RMSE = \\sqrt{\\frac{\\sum_{i=0}^{n} (y_i - \\hat{y_i})^2}{n}}$$\n",
    "\n",
    "$$RMSE = \\sqrt{\\frac{\\sum_{i=0}^{n} (MAE_i)^2}{n}}$$"
   ]
  },
  {
   "cell_type": "code",
   "execution_count": 91,
   "metadata": {},
   "outputs": [
    {
     "name": "stdout",
     "output_type": "stream",
     "text": [
      "MAE Train = 9.207084535542624\n",
      "MSE Train = 277.6222976388057\n",
      "RMSE Train = 16.661888044230228\n",
      "R2 Train = -0.21183271431707254\n",
      "\n",
      "MAE Test = 9.25450276158951\n",
      "MSE Test = 278.4680689783188\n",
      "RMSE Test = 16.687362553091447\n",
      "R2 Test = 0.0\n"
     ]
    }
   ],
   "source": [
    "# Calculating the mean values for train and test scores\n",
    "mae_train = np.array(mae_train).mean()\n",
    "mse_train = np.array(mse_train).mean()\n",
    "rmse_train = np.array(rmse_train).mean()\n",
    "r2_train = np.array(r2_train).mean()\n",
    "\n",
    "mae_test = np.array(mae_test).mean()\n",
    "mse_test = np.array(mse_test).mean()\n",
    "r2_test = np.array(r2_test).mean()\n",
    "\n",
    "# Displaying the results\n",
    "print('MAE Train = {}'.format(mae_train))\n",
    "print('MSE Train = {}'.format(mse_train))\n",
    "print('RMSE Train = {}'.format(rmse_train))\n",
    "print('R2 Train = {}'.format(r2_train))\n",
    "print()\n",
    "print('MAE Test = {}'.format(mae_test))\n",
    "print('MSE Test = {}'.format(mse_test))\n",
    "print('RMSE Test = {}'.format(rmse_test))\n",
    "print('R2 Test = {}'.format(r2_test))"
   ]
  },
  {
   "cell_type": "markdown",
   "metadata": {},
   "source": [
    "## K-Fold Cross Validation"
   ]
  },
  {
   "cell_type": "code",
   "execution_count": 93,
   "metadata": {},
   "outputs": [],
   "source": [
    "mae_train=[]\n",
    "mse_train=[]\n",
    "rmse_train=[]\n",
    "r2_train=[]\n",
    "\n",
    "mae_test=[]\n",
    "mse_test=[]\n",
    "rmse_test=[]\n",
    "r2_test=[]\n",
    "# ----------- CROSS VALIDATION ----------- #\n",
    "# -------------- LeaveOneOut ----------- #\n",
    "cv = model_selection.KFold(n_splits=5,shuffle=False)\n",
    "for train_index, test_index in cv.split(df.values):\n",
    "    X_train, X_test = df.values[train_index,:], df.values[test_index,:]\n",
    "    y_train, y_test = target[train_index],target[test_index]\n",
    "    \n",
    "    # Fitting the data into the model\n",
    "    clf.fit(X_train, y_train)\n",
    "    \n",
    "    # FOR TRAINING\n",
    "    predicted_train = clf.predict(X_train)\n",
    "    mae_train.append(metrics.mean_absolute_error(y_train, predicted_train))\n",
    "    mse_train.append(metrics.mean_squared_error(y_train, predicted_train))\n",
    "    rmse_train.append(np.sqrt(metrics.mean_squared_error(y_train, predicted_train)))\n",
    "    r2_train.append(metrics.r2_score(y_train, predicted_train))\n",
    "    \n",
    "    # FOR TESTING\n",
    "    predicted_test = clf.predict(X_test)\n",
    "    mae_test.append(metrics.mean_absolute_error(y_test, predicted_test))\n",
    "    mse_test.append(metrics.mean_squared_error(y_test, predicted_test))\n",
    "    rmse_test.append(np.sqrt(metrics.mean_squared_error(y_test, predicted_test)))\n",
    "    r2_test.append(metrics.r2_score(y_test, predicted_test))"
   ]
  },
  {
   "cell_type": "code",
   "execution_count": 95,
   "metadata": {},
   "outputs": [
    {
     "name": "stdout",
     "output_type": "stream",
     "text": [
      "MAE   = 9.247234215598906\n",
      "MSE Train = 278.14616057821286\n",
      "RMSE Train = 16.674678764829288\n",
      "R2 Train = -0.21413809484535623\n",
      "\n",
      "MAE Test = 9.300716565466043\n",
      "MSE Test = 279.7307781205076\n",
      "RMSE Test = 16.67637408045208\n",
      "R2 Test = -0.22252883863467687\n"
     ]
    }
   ],
   "source": [
    "# Calculating the mean values for train and test scores\n",
    "mae_train = np.array(mae_train).mean()\n",
    "mse_train = np.array(mse_train).mean()\n",
    "rmse_train = np.array(rmse_train).mean()\n",
    "r2_train = np.array(r2_train).mean()\n",
    "\n",
    "mae_test = np.array(mae_test).mean()\n",
    "mse_test = np.array(mse_test).mean()\n",
    "rmse_test = np.array(rmse_test).mean()\n",
    "r2_test = np.array(r2_test).mean()\n",
    "\n",
    "# Displaying the results\n",
    "print('MAE   = {}'.format(mae_train))\n",
    "print('MSE Train = {}'.format(mse_train))\n",
    "print('RMSE Train = {}'.format(rmse_train))\n",
    "print('R2 Train = {}'.format(r2_train))\n",
    "print()\n",
    "print('MAE Test = {}'.format(mae_test))\n",
    "print('MSE Test = {}'.format(mse_test))\n",
    "print('RMSE Test = {}'.format(rmse_test))\n",
    "print('R2 Test = {}'.format(r2_test))"
   ]
  },
  {
   "cell_type": "markdown",
   "metadata": {},
   "source": [
    "## Hold-out Cross Validation"
   ]
  },
  {
   "cell_type": "code",
   "execution_count": 98,
   "metadata": {},
   "outputs": [],
   "source": [
    "mae_train=[]\n",
    "mse_train=[]\n",
    "rmse_train=[]\n",
    "r2_train=[]\n",
    "\n",
    "mae_test=[]\n",
    "mse_test=[]\n",
    "rmse_test=[]\n",
    "r2_test=[]\n",
    "# ----------- CROSS VALIDATION ----------- #\n",
    "# -------------- Hold-Out -------------- # When I have too many data\n",
    "X_train, X_test, y_train, y_test  = model_selection.train_test_split(df.values, \n",
    "                                                                     target, \n",
    "                                                                     test_size=0.5,\n",
    "                                                                     random_state=None,\n",
    "                                                                     shuffle=False)\n",
    "    \n",
    "# Fitting the data into the model\n",
    "clf.fit(X_train, y_train)\n",
    "\n",
    "# FOR TRAINING\n",
    "predicted_train = clf.predict(X_train)\n",
    "mae_train.append(metrics.mean_absolute_error(y_train, predicted_train))\n",
    "mse_train.append(metrics.mean_squared_error(y_train, predicted_train))\n",
    "rmse_train.append(np.sqrt(metrics.mean_squared_error(y_train, predicted_train)))\n",
    "r2_train.append(metrics.r2_score(y_train, predicted_train))\n",
    "\n",
    "# FOR TESTING\n",
    "predicted_test = clf.predict(X_test)\n",
    "mae_test.append(metrics.mean_absolute_error(y_test, predicted_test))\n",
    "mse_test.append(metrics.mean_squared_error(y_test, predicted_test))\n",
    "rmse_test.append(np.sqrt(metrics.mean_squared_error(y_test, predicted_test)))\n",
    "r2_test.append(metrics.r2_score(y_test, predicted_test))"
   ]
  },
  {
   "cell_type": "code",
   "execution_count": 99,
   "metadata": {},
   "outputs": [
    {
     "name": "stdout",
     "output_type": "stream",
     "text": [
      "MAE   = 9.01873555196413\n",
      "MSE Train = 261.3598974710643\n",
      "RMSE Train = 16.166629131363912\n",
      "R2 Train = -0.21621085552877672\n",
      "\n",
      "MAE Test = 9.638066200840928\n",
      "MSE Test = 296.96909849361197\n",
      "RMSE Test = 17.232791372659623\n",
      "R2 Test = -0.22129237471340923\n"
     ]
    }
   ],
   "source": [
    "# Calculating the mean values for train and test scores\n",
    "mae_train = np.array(mae_train).mean()\n",
    "mse_train = np.array(mse_train).mean()\n",
    "rmse_train = np.array(rmse_train).mean()\n",
    "r2_train = np.array(r2_train).mean()\n",
    "\n",
    "mae_test = np.array(mae_test).mean()\n",
    "mse_test = np.array(mse_test).mean()\n",
    "rmse_test = np.array(rmse_test).mean()\n",
    "r2_test = np.array(r2_test).mean()\n",
    "\n",
    "# Displaying the results\n",
    "print('MAE   = {}'.format(mae_train))\n",
    "print('MSE Train = {}'.format(mse_train))\n",
    "print('RMSE Train = {}'.format(rmse_train))\n",
    "print('R2 Train = {}'.format(r2_train))\n",
    "print()\n",
    "print('MAE Test = {}'.format(mae_test))\n",
    "print('MSE Test = {}'.format(mse_test))\n",
    "print('RMSE Test = {}'.format(rmse_test))\n",
    "print('R2 Test = {}'.format(r2_test))"
   ]
  },
  {
   "cell_type": "code",
   "execution_count": null,
   "metadata": {},
   "outputs": [],
   "source": []
  }
 ],
 "metadata": {
  "kernelspec": {
   "display_name": "Python 3",
   "language": "python",
   "name": "python3"
  },
  "language_info": {
   "codemirror_mode": {
    "name": "ipython",
    "version": 3
   },
   "file_extension": ".py",
   "mimetype": "text/x-python",
   "name": "python",
   "nbconvert_exporter": "python",
   "pygments_lexer": "ipython3",
   "version": "3.7.0"
  }
 },
 "nbformat": 4,
 "nbformat_minor": 2
}
